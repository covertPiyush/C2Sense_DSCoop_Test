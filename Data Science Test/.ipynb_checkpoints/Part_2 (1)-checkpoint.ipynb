{
 "cells": [
  {
   "cell_type": "markdown",
   "metadata": {},
   "source": [
    "Name : Piyush Prashant\n",
    "\n",
    "\n",
    "\n",
    "Email : lnu.pi@husky.neu.edu"
   ]
  },
  {
   "cell_type": "code",
   "execution_count": 5,
   "metadata": {},
   "outputs": [],
   "source": [
    "# Data Manipulation Libraries\n",
    "import pandas as pd\n",
    "import numpy as np\n",
    "\n",
    "# Visualization Libraries\n",
    "import matplotlib\n",
    "%matplotlib inline\n",
    "import seaborn as sns\n",
    "import matplotlib.pyplot as plt\n",
    "\n",
    "# Sklearn Libraries for Machine Learning\n",
    "import statsmodels.api as sm\n",
    "from sklearn import metrics\n",
    "from sklearn.linear_model import LinearRegression\n",
    "from sklearn.linear_model import Ridge\n",
    "from sklearn.metrics import mean_squared_error\n",
    "from sklearn.model_selection import cross_val_score, KFold\n",
    "from sklearn.model_selection import train_test_split\n",
    "from sklearn.ensemble import RandomForestRegressor\n",
    "from sklearn.feature_selection import SelectFromModel\n",
    "from statsmodels.stats.outliers_influence import variance_inflation_factor\n",
    "import sklearn "
   ]
  },
  {
   "cell_type": "code",
   "execution_count": 6,
   "metadata": {},
   "outputs": [],
   "source": [
    "def read_csv(pathtofile):\n",
    "    '''\n",
    "    params : Path to File\n",
    "    returns : CSV loaded in a Pandas Dataframe\n",
    "    '''\n",
    "    dataframe = pd.read_csv(pathtofile)\n",
    "    return dataframe"
   ]
  },
  {
   "cell_type": "code",
   "execution_count": 7,
   "metadata": {},
   "outputs": [],
   "source": [
    "ipfile = 'apt_pricing.csv'\n",
    "df = read_csv(ipfile)"
   ]
  },
  {
   "cell_type": "code",
   "execution_count": 8,
   "metadata": {},
   "outputs": [
    {
     "data": {
      "text/html": [
       "<div>\n",
       "<style scoped>\n",
       "    .dataframe tbody tr th:only-of-type {\n",
       "        vertical-align: middle;\n",
       "    }\n",
       "\n",
       "    .dataframe tbody tr th {\n",
       "        vertical-align: top;\n",
       "    }\n",
       "\n",
       "    .dataframe thead th {\n",
       "        text-align: right;\n",
       "    }\n",
       "</style>\n",
       "<table border=\"1\" class=\"dataframe\">\n",
       "  <thead>\n",
       "    <tr style=\"text-align: right;\">\n",
       "      <th></th>\n",
       "      <th>longitude</th>\n",
       "      <th>latitude</th>\n",
       "      <th>apt_median_age</th>\n",
       "      <th>total_rooms</th>\n",
       "      <th>total_bedrooms</th>\n",
       "      <th>population</th>\n",
       "      <th>households</th>\n",
       "      <th>median_income</th>\n",
       "      <th>median_apt_value</th>\n",
       "      <th>location</th>\n",
       "    </tr>\n",
       "  </thead>\n",
       "  <tbody>\n",
       "    <tr>\n",
       "      <th>0</th>\n",
       "      <td>-122.23</td>\n",
       "      <td>37.88</td>\n",
       "      <td>41.0</td>\n",
       "      <td>880.0</td>\n",
       "      <td>129.0</td>\n",
       "      <td>322.0</td>\n",
       "      <td>126.0</td>\n",
       "      <td>8.3252</td>\n",
       "      <td>452600.0</td>\n",
       "      <td>NEAR BAY</td>\n",
       "    </tr>\n",
       "    <tr>\n",
       "      <th>1</th>\n",
       "      <td>-122.22</td>\n",
       "      <td>37.86</td>\n",
       "      <td>21.0</td>\n",
       "      <td>7099.0</td>\n",
       "      <td>1106.0</td>\n",
       "      <td>2401.0</td>\n",
       "      <td>1138.0</td>\n",
       "      <td>8.3014</td>\n",
       "      <td>358500.0</td>\n",
       "      <td>NEAR BAY</td>\n",
       "    </tr>\n",
       "    <tr>\n",
       "      <th>2</th>\n",
       "      <td>-122.24</td>\n",
       "      <td>37.85</td>\n",
       "      <td>52.0</td>\n",
       "      <td>1467.0</td>\n",
       "      <td>190.0</td>\n",
       "      <td>496.0</td>\n",
       "      <td>177.0</td>\n",
       "      <td>7.2574</td>\n",
       "      <td>352100.0</td>\n",
       "      <td>NEAR BAY</td>\n",
       "    </tr>\n",
       "    <tr>\n",
       "      <th>3</th>\n",
       "      <td>-122.25</td>\n",
       "      <td>37.85</td>\n",
       "      <td>52.0</td>\n",
       "      <td>1274.0</td>\n",
       "      <td>235.0</td>\n",
       "      <td>558.0</td>\n",
       "      <td>219.0</td>\n",
       "      <td>5.6431</td>\n",
       "      <td>341300.0</td>\n",
       "      <td>NEAR BAY</td>\n",
       "    </tr>\n",
       "    <tr>\n",
       "      <th>4</th>\n",
       "      <td>-122.25</td>\n",
       "      <td>37.85</td>\n",
       "      <td>52.0</td>\n",
       "      <td>1627.0</td>\n",
       "      <td>280.0</td>\n",
       "      <td>565.0</td>\n",
       "      <td>259.0</td>\n",
       "      <td>3.8462</td>\n",
       "      <td>342200.0</td>\n",
       "      <td>NEAR BAY</td>\n",
       "    </tr>\n",
       "  </tbody>\n",
       "</table>\n",
       "</div>"
      ],
      "text/plain": [
       "   longitude  latitude  apt_median_age  total_rooms  total_bedrooms  \\\n",
       "0    -122.23     37.88            41.0        880.0           129.0   \n",
       "1    -122.22     37.86            21.0       7099.0          1106.0   \n",
       "2    -122.24     37.85            52.0       1467.0           190.0   \n",
       "3    -122.25     37.85            52.0       1274.0           235.0   \n",
       "4    -122.25     37.85            52.0       1627.0           280.0   \n",
       "\n",
       "   population  households  median_income  median_apt_value  location  \n",
       "0       322.0       126.0         8.3252          452600.0  NEAR BAY  \n",
       "1      2401.0      1138.0         8.3014          358500.0  NEAR BAY  \n",
       "2       496.0       177.0         7.2574          352100.0  NEAR BAY  \n",
       "3       558.0       219.0         5.6431          341300.0  NEAR BAY  \n",
       "4       565.0       259.0         3.8462          342200.0  NEAR BAY  "
      ]
     },
     "execution_count": 8,
     "metadata": {},
     "output_type": "execute_result"
    }
   ],
   "source": [
    "df.head()"
   ]
  },
  {
   "cell_type": "code",
   "execution_count": 9,
   "metadata": {},
   "outputs": [],
   "source": [
    "def print_unique_values(dataframe,columns_list):\n",
    "    for column in columns_list:\n",
    "        print(str(column) + ':' + ' ' +  str(len(dataframe[column].unique())) + ' ' + 'values')\n",
    "    return None"
   ]
  },
  {
   "cell_type": "code",
   "execution_count": 10,
   "metadata": {},
   "outputs": [
    {
     "name": "stdout",
     "output_type": "stream",
     "text": [
      "longitude: 844 values\n",
      "latitude: 862 values\n",
      "apt_median_age: 52 values\n",
      "total_rooms: 5926 values\n",
      "total_bedrooms: 1924 values\n",
      "population: 3888 values\n",
      "households: 1815 values\n",
      "median_income: 12928 values\n",
      "median_apt_value: 3842 values\n",
      "location: 5 values\n"
     ]
    }
   ],
   "source": [
    "print_unique_values(df,df.columns)"
   ]
  },
  {
   "cell_type": "code",
   "execution_count": 11,
   "metadata": {},
   "outputs": [],
   "source": [
    "def return_shape_dataframe(dataframe):\n",
    "    '''\n",
    "    params : A Dataframe\n",
    "    returns: Shape of the dataframe\n",
    "    '''\n",
    "    return dataframe.shape"
   ]
  },
  {
   "cell_type": "code",
   "execution_count": 12,
   "metadata": {},
   "outputs": [
    {
     "data": {
      "text/plain": [
       "(20640, 10)"
      ]
     },
     "execution_count": 12,
     "metadata": {},
     "output_type": "execute_result"
    }
   ],
   "source": [
    "return_shape_dataframe(df)"
   ]
  },
  {
   "cell_type": "code",
   "execution_count": null,
   "metadata": {},
   "outputs": [],
   "source": [
    "# Identify which column has missing values. What is your strategy for dealing with those values ?"
   ]
  },
  {
   "cell_type": "code",
   "execution_count": 13,
   "metadata": {},
   "outputs": [],
   "source": [
    "def return_nulls(dataframe):\n",
    "    '''\n",
    "    params : A Dataframe \n",
    "    returns : Filtered Dataframe with columns having a null count\n",
    "    '''\n",
    "    return dataframe.isnull().sum()"
   ]
  },
  {
   "cell_type": "code",
   "execution_count": 26,
   "metadata": {
    "scrolled": true
   },
   "outputs": [
    {
     "data": {
      "text/plain": [
       "longitude             0\n",
       "latitude              0\n",
       "apt_median_age        0\n",
       "total_rooms           0\n",
       "total_bedrooms      207\n",
       "population            0\n",
       "households            0\n",
       "median_income         0\n",
       "median_apt_value      0\n",
       "location              0\n",
       "dtype: int64"
      ]
     },
     "execution_count": 26,
     "metadata": {},
     "output_type": "execute_result"
    }
   ],
   "source": [
    "return_nulls(df)"
   ]
  },
  {
   "cell_type": "code",
   "execution_count": 29,
   "metadata": {},
   "outputs": [],
   "source": [
    "def drop_nulls(dataframe):\n",
    "    '''\n",
    "    params : A dataframe \n",
    "    returns : A dataframe with no null values\n",
    "    '''\n",
    "    return dataframe.dropna(inplace=True)"
   ]
  },
  {
   "cell_type": "code",
   "execution_count": 30,
   "metadata": {},
   "outputs": [],
   "source": [
    "drop_nulls(df)"
   ]
  },
  {
   "cell_type": "code",
   "execution_count": 32,
   "metadata": {},
   "outputs": [],
   "source": [
    "def get_dummies(dataframe,col_name):\n",
    "    '''\n",
    "    params : A dataframe and a column name whose dummies are required\n",
    "    returns : A dataframe with dummies of the column specified\n",
    "    '''\n",
    "    return pd.get_dummies(dataframe, columns=[col_name])"
   ]
  },
  {
   "cell_type": "code",
   "execution_count": 33,
   "metadata": {},
   "outputs": [],
   "source": [
    "df = get_dummies(df,'location')"
   ]
  },
  {
   "cell_type": "code",
   "execution_count": 35,
   "metadata": {},
   "outputs": [],
   "source": [
    "def get_corr_plot(dataframe):\n",
    "    '''\n",
    "    params : A dataframe \n",
    "    returns: A correlation plot of all the columns of the passed dataframe\n",
    "    '''\n",
    "    plt.figure(figsize=(16,12))\n",
    "    plt.figure(figsize=(16,12))\n",
    "    sns.heatmap(data=df.corr(),annot=True,fmt='.2f',cmap='coolwarm')\n",
    "    plt.show()\n",
    "    return None"
   ]
  },
  {
   "cell_type": "code",
   "execution_count": 36,
   "metadata": {},
   "outputs": [
    {
     "data": {
      "text/plain": [
       "<Figure size 1152x864 with 0 Axes>"
      ]
     },
     "metadata": {},
     "output_type": "display_data"
    },
    {
     "data": {
      "image/png": "[encoded data removed]",
      "text/plain": [
       "<Figure size 1152x864 with 2 Axes>"
      ]
     },
     "metadata": {},
     "output_type": "display_data"
    }
   ],
   "source": [
    "get_corr_plot(df)"
   ]
  },
  {
   "cell_type": "code",
   "execution_count": 37,
   "metadata": {},
   "outputs": [
    {
     "data": {
      "text/plain": [
       "(20433, 14)"
      ]
     },
     "execution_count": 37,
     "metadata": {},
     "output_type": "execute_result"
    }
   ],
   "source": [
    "return_shape_dataframe(df)"
   ]
  },
  {
   "cell_type": "markdown",
   "metadata": {},
   "source": [
    "# Prediction\n",
    "\n",
    "### Find a model that can predict the median price of apartments based on other features in the 'apt_pricing.csv' data set. "
   ]
  },
  {
   "cell_type": "code",
   "execution_count": 49,
   "metadata": {
    "scrolled": true
   },
   "outputs": [],
   "source": [
    "columnsList = ['longitude','latitude']\n",
    "df = df.drop(columnsList,axis=1)"
   ]
  },
  {
   "cell_type": "code",
   "execution_count": 55,
   "metadata": {},
   "outputs": [],
   "source": [
    "def OLS_regression(dataframe,features_list,target_col):\n",
    "    '''\n",
    "    params : A dataframe whose columns need to be sliced for separating target and feature columns, list of feature columns and a target column\n",
    "    returns: An OLS table and metrics of the regression\n",
    "    '''\n",
    "    X = dataframe[features_list]\n",
    "    y = dataframe[target_col]\n",
    "    X_train, X_test, y_train, y_test = train_test_split( X, y, test_size=0.33, random_state=42)\n",
    "    model = sm.OLS(y, X)\n",
    "    results = model.fit()\n",
    "    # Statsmodels gives R-like statistical output\n",
    "    return results.summary()"
   ]
  },
  {
   "cell_type": "code",
   "execution_count": 56,
   "metadata": {
    "scrolled": false
   },
   "outputs": [
    {
     "data": {
      "text/html": [
       "<table class=\"simpletable\">\n",
       "<caption>OLS Regression Results</caption>\n",
       "<tr>\n",
       "  <th>Dep. Variable:</th>    <td>median_apt_value</td> <th>  R-squared:         </th>  <td>   0.634</td>  \n",
       "</tr>\n",
       "<tr>\n",
       "  <th>Model:</th>                   <td>OLS</td>       <th>  Adj. R-squared:    </th>  <td>   0.634</td>  \n",
       "</tr>\n",
       "<tr>\n",
       "  <th>Method:</th>             <td>Least Squares</td>  <th>  F-statistic:       </th>  <td>   3545.</td>  \n",
       "</tr>\n",
       "<tr>\n",
       "  <th>Date:</th>             <td>Mon, 18 Nov 2019</td> <th>  Prob (F-statistic):</th>   <td>  0.00</td>   \n",
       "</tr>\n",
       "<tr>\n",
       "  <th>Time:</th>                 <td>22:03:20</td>     <th>  Log-Likelihood:    </th> <td>-2.5689e+05</td>\n",
       "</tr>\n",
       "<tr>\n",
       "  <th>No. Observations:</th>      <td> 20433</td>      <th>  AIC:               </th>  <td>5.138e+05</td> \n",
       "</tr>\n",
       "<tr>\n",
       "  <th>Df Residuals:</th>          <td> 20422</td>      <th>  BIC:               </th>  <td>5.139e+05</td> \n",
       "</tr>\n",
       "<tr>\n",
       "  <th>Df Model:</th>              <td>    10</td>      <th>                     </th>      <td> </td>     \n",
       "</tr>\n",
       "<tr>\n",
       "  <th>Covariance Type:</th>      <td>nonrobust</td>    <th>                     </th>      <td> </td>     \n",
       "</tr>\n",
       "</table>\n",
       "<table class=\"simpletable\">\n",
       "<tr>\n",
       "           <td></td>              <th>coef</th>     <th>std err</th>      <th>t</th>      <th>P>|t|</th>  <th>[0.025</th>    <th>0.975]</th>  \n",
       "</tr>\n",
       "<tr>\n",
       "  <th>apt_median_age</th>      <td> 1185.0880</td> <td>   44.399</td> <td>   26.692</td> <td> 0.000</td> <td> 1098.063</td> <td> 1272.113</td>\n",
       "</tr>\n",
       "<tr>\n",
       "  <th>total_rooms</th>         <td>   -7.5095</td> <td>    0.801</td> <td>   -9.375</td> <td> 0.000</td> <td>   -9.080</td> <td>   -5.939</td>\n",
       "</tr>\n",
       "<tr>\n",
       "  <th>total_bedrooms</th>      <td>   81.3102</td> <td>    6.917</td> <td>   11.754</td> <td> 0.000</td> <td>   67.752</td> <td>   94.869</td>\n",
       "</tr>\n",
       "<tr>\n",
       "  <th>population</th>          <td>  -36.9950</td> <td>    1.088</td> <td>  -34.003</td> <td> 0.000</td> <td>  -39.128</td> <td>  -34.863</td>\n",
       "</tr>\n",
       "<tr>\n",
       "  <th>households</th>          <td>   76.7459</td> <td>    7.482</td> <td>   10.257</td> <td> 0.000</td> <td>   62.080</td> <td>   91.412</td>\n",
       "</tr>\n",
       "<tr>\n",
       "  <th>median_income</th>       <td> 4.047e+04</td> <td>  340.140</td> <td>  118.969</td> <td> 0.000</td> <td> 3.98e+04</td> <td> 4.11e+04</td>\n",
       "</tr>\n",
       "<tr>\n",
       "  <th>location_<1H OCEAN</th>  <td> 2.611e+04</td> <td> 2467.937</td> <td>   10.580</td> <td> 0.000</td> <td> 2.13e+04</td> <td> 3.09e+04</td>\n",
       "</tr>\n",
       "<tr>\n",
       "  <th>location_INLAND</th>     <td>-4.192e+04</td> <td> 2088.502</td> <td>  -20.069</td> <td> 0.000</td> <td> -4.6e+04</td> <td>-3.78e+04</td>\n",
       "</tr>\n",
       "<tr>\n",
       "  <th>location_ISLAND</th>     <td> 2.003e+05</td> <td> 3.13e+04</td> <td>    6.393</td> <td> 0.000</td> <td> 1.39e+05</td> <td> 2.62e+05</td>\n",
       "</tr>\n",
       "<tr>\n",
       "  <th>location_NEAR BAY</th>   <td> 3.049e+04</td> <td> 2963.950</td> <td>   10.286</td> <td> 0.000</td> <td> 2.47e+04</td> <td> 3.63e+04</td>\n",
       "</tr>\n",
       "<tr>\n",
       "  <th>location_NEAR OCEAN</th> <td> 3.947e+04</td> <td> 2652.452</td> <td>   14.882</td> <td> 0.000</td> <td> 3.43e+04</td> <td> 4.47e+04</td>\n",
       "</tr>\n",
       "</table>\n",
       "<table class=\"simpletable\">\n",
       "<tr>\n",
       "  <th>Omnibus:</th>       <td>4896.697</td> <th>  Durbin-Watson:     </th> <td>   0.973</td> \n",
       "</tr>\n",
       "<tr>\n",
       "  <th>Prob(Omnibus):</th>  <td> 0.000</td>  <th>  Jarque-Bera (JB):  </th> <td>17394.612</td>\n",
       "</tr>\n",
       "<tr>\n",
       "  <th>Skew:</th>           <td> 1.181</td>  <th>  Prob(JB):          </th> <td>    0.00</td> \n",
       "</tr>\n",
       "<tr>\n",
       "  <th>Kurtosis:</th>       <td> 6.854</td>  <th>  Cond. No.          </th> <td>2.53e+05</td> \n",
       "</tr>\n",
       "</table><br/><br/>Warnings:<br/>[1] Standard Errors assume that the covariance matrix of the errors is correctly specified.<br/>[2] The condition number is large, 2.53e+05. This might indicate that there are<br/>strong multicollinearity or other numerical problems."
      ],
      "text/plain": [
       "<class 'statsmodels.iolib.summary.Summary'>\n",
       "\"\"\"\n",
       "                            OLS Regression Results                            \n",
       "==============================================================================\n",
       "Dep. Variable:       median_apt_value   R-squared:                       0.634\n",
       "Model:                            OLS   Adj. R-squared:                  0.634\n",
       "Method:                 Least Squares   F-statistic:                     3545.\n",
       "Date:                Mon, 18 Nov 2019   Prob (F-statistic):               0.00\n",
       "Time:                        22:03:20   Log-Likelihood:            -2.5689e+05\n",
       "No. Observations:               20433   AIC:                         5.138e+05\n",
       "Df Residuals:                   20422   BIC:                         5.139e+05\n",
       "Df Model:                          10                                         \n",
       "Covariance Type:            nonrobust                                         \n",
       "=======================================================================================\n",
       "                          coef    std err          t      P>|t|      [0.025      0.975]\n",
       "---------------------------------------------------------------------------------------\n",
       "apt_median_age       1185.0880     44.399     26.692      0.000    1098.063    1272.113\n",
       "total_rooms            -7.5095      0.801     -9.375      0.000      -9.080      -5.939\n",
       "total_bedrooms         81.3102      6.917     11.754      0.000      67.752      94.869\n",
       "population            -36.9950      1.088    -34.003      0.000     -39.128     -34.863\n",
       "households             76.7459      7.482     10.257      0.000      62.080      91.412\n",
       "median_income        4.047e+04    340.140    118.969      0.000    3.98e+04    4.11e+04\n",
       "location_<1H OCEAN   2.611e+04   2467.937     10.580      0.000    2.13e+04    3.09e+04\n",
       "location_INLAND     -4.192e+04   2088.502    -20.069      0.000    -4.6e+04   -3.78e+04\n",
       "location_ISLAND      2.003e+05   3.13e+04      6.393      0.000    1.39e+05    2.62e+05\n",
       "location_NEAR BAY    3.049e+04   2963.950     10.286      0.000    2.47e+04    3.63e+04\n",
       "location_NEAR OCEAN  3.947e+04   2652.452     14.882      0.000    3.43e+04    4.47e+04\n",
       "==============================================================================\n",
       "Omnibus:                     4896.697   Durbin-Watson:                   0.973\n",
       "Prob(Omnibus):                  0.000   Jarque-Bera (JB):            17394.612\n",
       "Skew:                           1.181   Prob(JB):                         0.00\n",
       "Kurtosis:                       6.854   Cond. No.                     2.53e+05\n",
       "==============================================================================\n",
       "\n",
       "Warnings:\n",
       "[1] Standard Errors assume that the covariance matrix of the errors is correctly specified.\n",
       "[2] The condition number is large, 2.53e+05. This might indicate that there are\n",
       "strong multicollinearity or other numerical problems.\n",
       "\"\"\""
      ]
     },
     "execution_count": 56,
     "metadata": {},
     "output_type": "execute_result"
    }
   ],
   "source": [
    "features_list = ['apt_median_age', 'total_rooms', 'total_bedrooms', 'population',\n",
    "                 'households', 'median_income','location_<1H OCEAN',\n",
    "                 'location_INLAND', 'location_ISLAND', 'location_NEAR BAY','location_NEAR OCEAN']\n",
    "target_col = 'median_apt_value'\n",
    "OLS_regression(df,features_list,target_col)"
   ]
  },
  {
   "cell_type": "markdown",
   "metadata": {},
   "source": [
    "*** Used ols model understand feature significance-\n",
    "  All the features show significant t statistics with households as a slightly skeptical t-stat"
   ]
  },
  {
   "cell_type": "code",
   "execution_count": 64,
   "metadata": {},
   "outputs": [],
   "source": [
    "def Linear_Regression(dataframe, features_list, target_col):\n",
    "    '''\n",
    "    params : A dataframe whose columns need to be sliced for separating target and feature columns, list of feature columns and a target column\n",
    "    returns: Metrics for evaluating the regression model fit and it's predictions\n",
    "    '''\n",
    "    X = dataframe[features_list]\n",
    "    y = dataframe[target_col]\n",
    "    X_train, X_test, y_train, y_test = train_test_split( X, y, test_size=0.33, random_state=42)\n",
    "    linreg = LinearRegression()\n",
    "    linreg.fit(X_train,y_train)\n",
    "    print('The score of the model is {}'.format(linreg.score(X_test,y_test)))\n",
    "    predictions = linreg.predict(X_test)\n",
    "    mse = mean_squared_error(predictions, y_test)\n",
    "    rmse = np.sqrt(mse)\n",
    "    print('The Root Mean Square of the Linear Regression Model is {}'.format(rmse))\n",
    "    original_predicted = pd.DataFrame()\n",
    "    original_predicted['original'] = y_test\n",
    "    original_predicted['predicted'] = predictions\n",
    "    return original_predicted, rmse"
   ]
  },
  {
   "cell_type": "code",
   "execution_count": 65,
   "metadata": {},
   "outputs": [
    {
     "name": "stdout",
     "output_type": "stream",
     "text": [
      "The score of the model is 0.6435804658803743\n",
      "The Root Mean Square of the Linear Regression Model is 68745.09259296136\n"
     ]
    }
   ],
   "source": [
    "features_list = ['apt_median_age', 'total_rooms', 'total_bedrooms', 'population',\n",
    "                 'households', 'median_income','location_<1H OCEAN',\n",
    "                 'location_INLAND', 'location_ISLAND', 'location_NEAR BAY','location_NEAR OCEAN']\n",
    "target_col = 'median_apt_value'\n",
    "original_predicted, rmse = Linear_Regression(df,features_list,target_col)"
   ]
  },
  {
   "cell_type": "code",
   "execution_count": 62,
   "metadata": {},
   "outputs": [
    {
     "data": {
      "text/html": [
       "<div>\n",
       "<style scoped>\n",
       "    .dataframe tbody tr th:only-of-type {\n",
       "        vertical-align: middle;\n",
       "    }\n",
       "\n",
       "    .dataframe tbody tr th {\n",
       "        vertical-align: top;\n",
       "    }\n",
       "\n",
       "    .dataframe thead th {\n",
       "        text-align: right;\n",
       "    }\n",
       "</style>\n",
       "<table border=\"1\" class=\"dataframe\">\n",
       "  <thead>\n",
       "    <tr style=\"text-align: right;\">\n",
       "      <th></th>\n",
       "      <th>original</th>\n",
       "      <th>predicted</th>\n",
       "    </tr>\n",
       "  </thead>\n",
       "  <tbody>\n",
       "    <tr>\n",
       "      <th>14416</th>\n",
       "      <td>245800.0</td>\n",
       "      <td>206902.666939</td>\n",
       "    </tr>\n",
       "    <tr>\n",
       "      <th>16383</th>\n",
       "      <td>137900.0</td>\n",
       "      <td>136077.337302</td>\n",
       "    </tr>\n",
       "    <tr>\n",
       "      <th>7731</th>\n",
       "      <td>218200.0</td>\n",
       "      <td>212006.326219</td>\n",
       "    </tr>\n",
       "    <tr>\n",
       "      <th>1410</th>\n",
       "      <td>220800.0</td>\n",
       "      <td>186133.561305</td>\n",
       "    </tr>\n",
       "    <tr>\n",
       "      <th>1335</th>\n",
       "      <td>170500.0</td>\n",
       "      <td>160609.951067</td>\n",
       "    </tr>\n",
       "  </tbody>\n",
       "</table>\n",
       "</div>"
      ],
      "text/plain": [
       "       original      predicted\n",
       "14416  245800.0  206902.666939\n",
       "16383  137900.0  136077.337302\n",
       "7731   218200.0  212006.326219\n",
       "1410   220800.0  186133.561305\n",
       "1335   170500.0  160609.951067"
      ]
     },
     "execution_count": 62,
     "metadata": {},
     "output_type": "execute_result"
    }
   ],
   "source": [
    "original_predicted.head()"
   ]
  },
  {
   "cell_type": "markdown",
   "metadata": {},
   "source": [
    "#### *** Considering all the feature and applying Linear Regression. Using this as a base model\n",
    "\n",
    "\n",
    "#### Using RMSE as accuracy metric\n"
   ]
  },
  {
   "cell_type": "code",
   "execution_count": 66,
   "metadata": {},
   "outputs": [],
   "source": [
    "def apply_ridge(dataframe,features_list,target_col, alpha):\n",
    "    '''\n",
    "    params : A dataframe whose columns need to be sliced for separating target and feature columns, list of feature columns, target column and alpha value for ridge\n",
    "    returns: Metrics for evaluating the regression model fit and it's predictions\n",
    "    '''\n",
    "    X = dataframe[features_list]\n",
    "    y = dataframe[target_col]\n",
    "    X_train, X_test, y_train, y_test = train_test_split( X, y, test_size=0.33, random_state=42)\n",
    "    #Ridge Regression with alpha = 0.01\n",
    "    rr = Ridge(alpha=alpha) # higher the alpha value, more restriction on the coefficients; low alpha > more generalization, coefficients are barely\n",
    "    # restricted and in this case linear and ridge regression resembles\n",
    "    rr.fit(X_train, y_train)\n",
    "    print('The score of the model is {}'. format(rr.score(X_test, y_test)))\n",
    "    predictions= rr.predict(X_test)\n",
    "    mse = mean_squared_error(predictions, y_test)\n",
    "    rmse = np.sqrt(mse)\n",
    "    print('The Root Mean Square of the Ridge Linear Regression Model is {}'.format(rmse))\n",
    "    original_predicted = pd.DataFrame()\n",
    "    original_predicted['original'] = y_test\n",
    "    original_predicted['predicted'] = predictions\n",
    "    return original_predicted, rmse"
   ]
  },
  {
   "cell_type": "code",
   "execution_count": 69,
   "metadata": {},
   "outputs": [
    {
     "name": "stdout",
     "output_type": "stream",
     "text": [
      "The score of the model is 0.6435843170685114\n",
      "The Root Mean Square of the Ridge Linear Regression Model is 68744.72118935562\n"
     ]
    }
   ],
   "source": [
    "features_list = ['apt_median_age', 'total_rooms', 'total_bedrooms', 'population',\n",
    "                 'households', 'median_income','location_<1H OCEAN',\n",
    "                 'location_INLAND', 'location_ISLAND', 'location_NEAR BAY','location_NEAR OCEAN']\n",
    "target_col = 'median_apt_value'\n",
    "original_predicted_rr, rr_rmse = apply_ridge(df,features_list,target_col,0.01)"
   ]
  },
  {
   "cell_type": "code",
   "execution_count": 70,
   "metadata": {},
   "outputs": [
    {
     "data": {
      "text/html": [
       "<div>\n",
       "<style scoped>\n",
       "    .dataframe tbody tr th:only-of-type {\n",
       "        vertical-align: middle;\n",
       "    }\n",
       "\n",
       "    .dataframe tbody tr th {\n",
       "        vertical-align: top;\n",
       "    }\n",
       "\n",
       "    .dataframe thead th {\n",
       "        text-align: right;\n",
       "    }\n",
       "</style>\n",
       "<table border=\"1\" class=\"dataframe\">\n",
       "  <thead>\n",
       "    <tr style=\"text-align: right;\">\n",
       "      <th></th>\n",
       "      <th>original</th>\n",
       "      <th>predicted</th>\n",
       "    </tr>\n",
       "  </thead>\n",
       "  <tbody>\n",
       "    <tr>\n",
       "      <th>14416</th>\n",
       "      <td>245800.0</td>\n",
       "      <td>206902.560888</td>\n",
       "    </tr>\n",
       "    <tr>\n",
       "      <th>16383</th>\n",
       "      <td>137900.0</td>\n",
       "      <td>136077.181987</td>\n",
       "    </tr>\n",
       "    <tr>\n",
       "      <th>7731</th>\n",
       "      <td>218200.0</td>\n",
       "      <td>212006.446089</td>\n",
       "    </tr>\n",
       "    <tr>\n",
       "      <th>1410</th>\n",
       "      <td>220800.0</td>\n",
       "      <td>186133.648304</td>\n",
       "    </tr>\n",
       "    <tr>\n",
       "      <th>1335</th>\n",
       "      <td>170500.0</td>\n",
       "      <td>160609.885413</td>\n",
       "    </tr>\n",
       "  </tbody>\n",
       "</table>\n",
       "</div>"
      ],
      "text/plain": [
       "       original      predicted\n",
       "14416  245800.0  206902.560888\n",
       "16383  137900.0  136077.181987\n",
       "7731   218200.0  212006.446089\n",
       "1410   220800.0  186133.648304\n",
       "1335   170500.0  160609.885413"
      ]
     },
     "execution_count": 70,
     "metadata": {},
     "output_type": "execute_result"
    }
   ],
   "source": [
    "original_predicted_rr.head()"
   ]
  },
  {
   "cell_type": "markdown",
   "metadata": {},
   "source": [
    "#### *** Applying Ridge dosent  improve anything"
   ]
  },
  {
   "cell_type": "code",
   "execution_count": 72,
   "metadata": {},
   "outputs": [
    {
     "name": "stdout",
     "output_type": "stream",
     "text": [
      "The score of the model is 0.6428280286400234\n",
      "The Root Mean Square of the Ridge Linear Regression Model is 68817.61821474311\n"
     ]
    }
   ],
   "source": [
    "#Ridge Regression with alpha = 100\n",
    "features_list = ['apt_median_age', 'total_rooms', 'total_bedrooms', 'population',\n",
    "                 'households', 'median_income','location_<1H OCEAN',\n",
    "                 'location_INLAND', 'location_ISLAND', 'location_NEAR BAY','location_NEAR OCEAN']\n",
    "target_col = 'median_apt_value'\n",
    "original_predicted_rr, rr_rmse = apply_ridge(df,features_list,target_col,100)"
   ]
  },
  {
   "cell_type": "code",
   "execution_count": 73,
   "metadata": {},
   "outputs": [
    {
     "data": {
      "text/html": [
       "<div>\n",
       "<style scoped>\n",
       "    .dataframe tbody tr th:only-of-type {\n",
       "        vertical-align: middle;\n",
       "    }\n",
       "\n",
       "    .dataframe tbody tr th {\n",
       "        vertical-align: top;\n",
       "    }\n",
       "\n",
       "    .dataframe thead th {\n",
       "        text-align: right;\n",
       "    }\n",
       "</style>\n",
       "<table border=\"1\" class=\"dataframe\">\n",
       "  <thead>\n",
       "    <tr style=\"text-align: right;\">\n",
       "      <th></th>\n",
       "      <th>original</th>\n",
       "      <th>predicted</th>\n",
       "    </tr>\n",
       "  </thead>\n",
       "  <tbody>\n",
       "    <tr>\n",
       "      <th>14416</th>\n",
       "      <td>245800.0</td>\n",
       "      <td>205185.538727</td>\n",
       "    </tr>\n",
       "    <tr>\n",
       "      <th>16383</th>\n",
       "      <td>137900.0</td>\n",
       "      <td>136720.603664</td>\n",
       "    </tr>\n",
       "    <tr>\n",
       "      <th>7731</th>\n",
       "      <td>218200.0</td>\n",
       "      <td>211919.645764</td>\n",
       "    </tr>\n",
       "    <tr>\n",
       "      <th>1410</th>\n",
       "      <td>220800.0</td>\n",
       "      <td>184785.577597</td>\n",
       "    </tr>\n",
       "    <tr>\n",
       "      <th>1335</th>\n",
       "      <td>170500.0</td>\n",
       "      <td>161477.846325</td>\n",
       "    </tr>\n",
       "  </tbody>\n",
       "</table>\n",
       "</div>"
      ],
      "text/plain": [
       "       original      predicted\n",
       "14416  245800.0  205185.538727\n",
       "16383  137900.0  136720.603664\n",
       "7731   218200.0  211919.645764\n",
       "1410   220800.0  184785.577597\n",
       "1335   170500.0  161477.846325"
      ]
     },
     "execution_count": 73,
     "metadata": {},
     "output_type": "execute_result"
    }
   ],
   "source": [
    "original_predicted_rr.head()"
   ]
  },
  {
   "cell_type": "markdown",
   "metadata": {},
   "source": [
    "### Changing Feature "
   ]
  },
  {
   "cell_type": "code",
   "execution_count": 74,
   "metadata": {},
   "outputs": [
    {
     "name": "stdout",
     "output_type": "stream",
     "text": [
      "The score of the model is 0.5948748627723635\n",
      "The Root Mean Square of the Linear Regression Model is 73291.82698664643\n"
     ]
    }
   ],
   "source": [
    "features_list = ['location_<1H OCEAN','median_income','location_INLAND']\n",
    "target_col = 'median_apt_value'\n",
    "original_predicted, rmse = Linear_Regression(df,features_list,target_col)"
   ]
  },
  {
   "cell_type": "code",
   "execution_count": 75,
   "metadata": {
    "scrolled": true
   },
   "outputs": [
    {
     "data": {
      "text/html": [
       "<div>\n",
       "<style scoped>\n",
       "    .dataframe tbody tr th:only-of-type {\n",
       "        vertical-align: middle;\n",
       "    }\n",
       "\n",
       "    .dataframe tbody tr th {\n",
       "        vertical-align: top;\n",
       "    }\n",
       "\n",
       "    .dataframe thead th {\n",
       "        text-align: right;\n",
       "    }\n",
       "</style>\n",
       "<table border=\"1\" class=\"dataframe\">\n",
       "  <thead>\n",
       "    <tr style=\"text-align: right;\">\n",
       "      <th></th>\n",
       "      <th>original</th>\n",
       "      <th>predicted</th>\n",
       "    </tr>\n",
       "  </thead>\n",
       "  <tbody>\n",
       "    <tr>\n",
       "      <th>14416</th>\n",
       "      <td>245800.0</td>\n",
       "      <td>219727.227635</td>\n",
       "    </tr>\n",
       "    <tr>\n",
       "      <th>16383</th>\n",
       "      <td>137900.0</td>\n",
       "      <td>171400.550286</td>\n",
       "    </tr>\n",
       "    <tr>\n",
       "      <th>7731</th>\n",
       "      <td>218200.0</td>\n",
       "      <td>204013.105336</td>\n",
       "    </tr>\n",
       "    <tr>\n",
       "      <th>1410</th>\n",
       "      <td>220800.0</td>\n",
       "      <td>209007.469969</td>\n",
       "    </tr>\n",
       "    <tr>\n",
       "      <th>1335</th>\n",
       "      <td>170500.0</td>\n",
       "      <td>157238.567488</td>\n",
       "    </tr>\n",
       "  </tbody>\n",
       "</table>\n",
       "</div>"
      ],
      "text/plain": [
       "       original      predicted\n",
       "14416  245800.0  219727.227635\n",
       "16383  137900.0  171400.550286\n",
       "7731   218200.0  204013.105336\n",
       "1410   220800.0  209007.469969\n",
       "1335   170500.0  157238.567488"
      ]
     },
     "execution_count": 75,
     "metadata": {},
     "output_type": "execute_result"
    }
   ],
   "source": [
    "original_predicted.head()"
   ]
  },
  {
   "cell_type": "markdown",
   "metadata": {},
   "source": [
    "### Random Forrest"
   ]
  },
  {
   "cell_type": "code",
   "execution_count": 84,
   "metadata": {},
   "outputs": [],
   "source": [
    "def RandomForestRegression(dataframe, features_list,target_col):\n",
    "    '''\n",
    "    params : A dataframe whose columns need to be sliced for separating target and feature columns, list of feature columns, target column and alpha value for Random Forest Regression\n",
    "    returns: Metrics for evaluating the random forest regression model fit and it's predictions\n",
    "    '''\n",
    "    X = dataframe[features_list]\n",
    "    y = dataframe[target_col]\n",
    "    X_train, X_test, y_train, y_test = train_test_split( X, y, test_size=0.33, random_state=42)\n",
    "    rf = RandomForestRegressor(n_estimators=20, random_state=1)\n",
    "    rf.fit(X_train,y_train)\n",
    "    print('The Score of the model is {}'.format(rf.score(X_test,y_test)))\n",
    "    predictions = rf.predict(X_test)\n",
    "    mse = mean_squared_error(predictions, y_test)\n",
    "    rmse = np.sqrt(mse)\n",
    "    print('The Root Mean Square of the Ridge Linear Regression Model is {}'.format(rmse))\n",
    "    original_predicted = pd.DataFrame()\n",
    "    original_predicted['original'] = y_test\n",
    "    original_predicted['predicted'] = predictions\n",
    "    return original_predicted, rmse"
   ]
  },
  {
   "cell_type": "code",
   "execution_count": 85,
   "metadata": {},
   "outputs": [
    {
     "name": "stdout",
     "output_type": "stream",
     "text": [
      "The Score of the model is 0.7096743640036978\n",
      "The Root Mean Square of the Ridge Linear Regression Model is 62044.550880963245\n"
     ]
    }
   ],
   "source": [
    "features_list = ['apt_median_age', 'total_rooms', 'total_bedrooms', 'population',\n",
    "                 'households', 'median_income','location_<1H OCEAN',\n",
    "                 'location_INLAND', 'location_ISLAND', 'location_NEAR BAY','location_NEAR OCEAN']\n",
    "target_col = 'median_apt_value'\n",
    "original_predicted_rf, rmse_rf = RandomForestRegression(df,features_list,target_col)"
   ]
  },
  {
   "cell_type": "code",
   "execution_count": 86,
   "metadata": {},
   "outputs": [
    {
     "data": {
      "text/html": [
       "<div>\n",
       "<style scoped>\n",
       "    .dataframe tbody tr th:only-of-type {\n",
       "        vertical-align: middle;\n",
       "    }\n",
       "\n",
       "    .dataframe tbody tr th {\n",
       "        vertical-align: top;\n",
       "    }\n",
       "\n",
       "    .dataframe thead th {\n",
       "        text-align: right;\n",
       "    }\n",
       "</style>\n",
       "<table border=\"1\" class=\"dataframe\">\n",
       "  <thead>\n",
       "    <tr style=\"text-align: right;\">\n",
       "      <th></th>\n",
       "      <th>original</th>\n",
       "      <th>predicted</th>\n",
       "    </tr>\n",
       "  </thead>\n",
       "  <tbody>\n",
       "    <tr>\n",
       "      <th>14416</th>\n",
       "      <td>245800.0</td>\n",
       "      <td>226880.0</td>\n",
       "    </tr>\n",
       "    <tr>\n",
       "      <th>16383</th>\n",
       "      <td>137900.0</td>\n",
       "      <td>147150.0</td>\n",
       "    </tr>\n",
       "    <tr>\n",
       "      <th>7731</th>\n",
       "      <td>218200.0</td>\n",
       "      <td>194590.0</td>\n",
       "    </tr>\n",
       "    <tr>\n",
       "      <th>1410</th>\n",
       "      <td>220800.0</td>\n",
       "      <td>136645.0</td>\n",
       "    </tr>\n",
       "    <tr>\n",
       "      <th>1335</th>\n",
       "      <td>170500.0</td>\n",
       "      <td>171905.0</td>\n",
       "    </tr>\n",
       "  </tbody>\n",
       "</table>\n",
       "</div>"
      ],
      "text/plain": [
       "       original  predicted\n",
       "14416  245800.0   226880.0\n",
       "16383  137900.0   147150.0\n",
       "7731   218200.0   194590.0\n",
       "1410   220800.0   136645.0\n",
       "1335   170500.0   171905.0"
      ]
     },
     "execution_count": 86,
     "metadata": {},
     "output_type": "execute_result"
    }
   ],
   "source": [
    "original_predicted_rf.head()"
   ]
  },
  {
   "cell_type": "markdown",
   "metadata": {},
   "source": [
    "By hit and trial decresing the feature set to highly corelated variable gives to the targget and applying Lineear regression increses the accuracy but random forest gives the best accuracy."
   ]
  },
  {
   "cell_type": "markdown",
   "metadata": {},
   "source": [
    "### Training / Model Evaluation"
   ]
  },
  {
   "cell_type": "markdown",
   "metadata": {},
   "source": [
    "### Choose a tree-based regressor with default parameters to perform training on the data. Use 10-fold Cross Validation. \n",
    "### Set the total number of trees to be 10.\n",
    "### Choose the proper metric to evaluate the accuracy of your model. "
   ]
  },
  {
   "cell_type": "markdown",
   "metadata": {},
   "source": [
    "### KFold"
   ]
  },
  {
   "cell_type": "code",
   "execution_count": 87,
   "metadata": {},
   "outputs": [],
   "source": [
    "def KFold_rf(dataframe,features_list, target_col):\n",
    "    '''\n",
    "    params : A dataframe whose columns need to be sliced for separating target and feature columns, list of feature columns, target column and alpha value for KFold Cross Validation\n",
    "    returns: Metrics for evaluating the K-Fold Cross Validation\n",
    "    '''\n",
    "    X = dataframe[features_list]\n",
    "    y = dataframe[target_col]\n",
    "    X_train, X_test, y_train, y_test = train_test_split( X, y, test_size=0.33, random_state=42)\n",
    "    regressor_rf = RandomForestRegressor(n_estimators=10, random_state=1)\n",
    "    scores = []\n",
    "    RMSE_Krf =[]\n",
    "    cv = KFold(n_splits=10, random_state= None, shuffle=False)\n",
    "    for train_index, test_index in cv.split(y):\n",
    "        print(\"Train Index: \", train_index, \"\\n\")\n",
    "        print(\"Test Index: \", test_index)\n",
    "        X_train, X_test, y_train, y_test = X.iloc[train_index], X.iloc[test_index], y.iloc[train_index], y.iloc[test_index]\n",
    "        regressor_rf.fit(X_train, y_train)\n",
    "        scores.append(regressor_rf.score(X_test, y_test))\n",
    "        y_pred = regressor_rf.predict(X_test)\n",
    "        RMSE_Krf.append(mean_squared_error(y_pred, y_test) ** 0.5)\n",
    "    print('The mean score of the cross validated model is {}'.format(np.mean(scores)))\n",
    "    print('The mean RMSE of the cross validated model is {}'.format(np.mean(RMSE_Krf)))\n",
    "    return np.mean(scores), np.mean(RMSE_Krf)"
   ]
  },
  {
   "cell_type": "code",
   "execution_count": 88,
   "metadata": {},
   "outputs": [
    {
     "name": "stdout",
     "output_type": "stream",
     "text": [
      "Train Index:  [ 2044  2045  2046 ... 20430 20431 20432] \n",
      "\n",
      "Test Index:  [   0    1    2 ... 2041 2042 2043]\n",
      "Train Index:  [    0     1     2 ... 20430 20431 20432] \n",
      "\n",
      "Test Index:  [2044 2045 2046 ... 4085 4086 4087]\n",
      "Train Index:  [    0     1     2 ... 20430 20431 20432] \n",
      "\n",
      "Test Index:  [4088 4089 4090 ... 6129 6130 6131]\n",
      "Train Index:  [    0     1     2 ... 20430 20431 20432] \n",
      "\n",
      "Test Index:  [6132 6133 6134 ... 8172 8173 8174]\n",
      "Train Index:  [    0     1     2 ... 20430 20431 20432] \n",
      "\n",
      "Test Index:  [ 8175  8176  8177 ... 10215 10216 10217]\n",
      "Train Index:  [    0     1     2 ... 20430 20431 20432] \n",
      "\n",
      "Test Index:  [10218 10219 10220 ... 12258 12259 12260]\n",
      "Train Index:  [    0     1     2 ... 20430 20431 20432] \n",
      "\n",
      "Test Index:  [12261 12262 12263 ... 14301 14302 14303]\n",
      "Train Index:  [    0     1     2 ... 20430 20431 20432] \n",
      "\n",
      "Test Index:  [14304 14305 14306 ... 16344 16345 16346]\n",
      "Train Index:  [    0     1     2 ... 20430 20431 20432] \n",
      "\n",
      "Test Index:  [16347 16348 16349 ... 18387 18388 18389]\n",
      "Train Index:  [    0     1     2 ... 18387 18388 18389] \n",
      "\n",
      "Test Index:  [18390 18391 18392 ... 20430 20431 20432]\n",
      "The mean score of the cross validated model is 0.5497270710228517\n",
      "The mean RMSE of the cross validated model is 68861.37203927376\n"
     ]
    }
   ],
   "source": [
    "features_list = ['apt_median_age', 'total_rooms', 'total_bedrooms', 'population',\n",
    "                 'households', 'median_income','location_<1H OCEAN',\n",
    "                 'location_INLAND', 'location_ISLAND', 'location_NEAR BAY','location_NEAR OCEAN']\n",
    "target_col = 'median_apt_value'\n",
    "score_kfold, rmse_kfold = KFold_rf(df,features_list,target_col)"
   ]
  },
  {
   "cell_type": "markdown",
   "metadata": {},
   "source": [
    "###  Use the tree-based regressor to determine the most important features that impact the prediction accuracy."
   ]
  },
  {
   "cell_type": "code",
   "execution_count": 89,
   "metadata": {},
   "outputs": [
    {
     "data": {
      "text/plain": [
       "SelectFromModel(estimator=RandomForestRegressor(bootstrap=True, criterion='mse', max_depth=None,\n",
       "           max_features='auto', max_leaf_nodes=None,\n",
       "           min_impurity_decrease=0.0, min_impurity_split=None,\n",
       "           min_samples_leaf=1, min_samples_split=2,\n",
       "           min_weight_fraction_leaf=0.0, n_estimators=10, n_jobs=None,\n",
       "           oob_score=False, random_state=None, verbose=0, warm_start=False),\n",
       "        max_features=None, norm_order=1, prefit=False, threshold=None)"
      ]
     },
     "execution_count": 89,
     "metadata": {},
     "output_type": "execute_result"
    }
   ],
   "source": [
    "features_list = ['apt_median_age', 'total_rooms', 'total_bedrooms', 'population',\n",
    "                 'households', 'median_income','location_<1H OCEAN',\n",
    "                 'location_INLAND', 'location_ISLAND', 'location_NEAR BAY','location_NEAR OCEAN']\n",
    "target_col = 'median_apt_value'\n",
    "X = df[features_list]\n",
    "y = df[target_col]\n",
    "X_train, X_test, y_train, y_test = train_test_split( X, y, test_size=0.33, random_state=42)\n",
    "sel = SelectFromModel(RandomForestRegressor(n_estimators = 10))\n",
    "sel.fit(X_train, y_train)"
   ]
  },
  {
   "cell_type": "code",
   "execution_count": 90,
   "metadata": {},
   "outputs": [
    {
     "name": "stdout",
     "output_type": "stream",
     "text": [
      "Index(['median_income', 'location_INLAND'], dtype='object')\n"
     ]
    }
   ],
   "source": [
    "selected_feat= X_train.columns[(sel.get_support())]\n",
    "print(selected_feat)"
   ]
  },
  {
   "cell_type": "markdown",
   "metadata": {},
   "source": [
    "### Use a different machine learning approach to find the most important features in the dataset.\n",
    "###  Compare the results with your findings from the tree-based regressor model."
   ]
  },
  {
   "cell_type": "markdown",
   "metadata": {},
   "source": [
    "#### Variance Inflation Factor"
   ]
  },
  {
   "cell_type": "code",
   "execution_count": 99,
   "metadata": {},
   "outputs": [
    {
     "data": {
      "text/html": [
       "<div>\n",
       "<style scoped>\n",
       "    .dataframe tbody tr th:only-of-type {\n",
       "        vertical-align: middle;\n",
       "    }\n",
       "\n",
       "    .dataframe tbody tr th {\n",
       "        vertical-align: top;\n",
       "    }\n",
       "\n",
       "    .dataframe thead th {\n",
       "        text-align: right;\n",
       "    }\n",
       "</style>\n",
       "<table border=\"1\" class=\"dataframe\">\n",
       "  <thead>\n",
       "    <tr style=\"text-align: right;\">\n",
       "      <th></th>\n",
       "      <th>VIF Factor</th>\n",
       "      <th>features</th>\n",
       "    </tr>\n",
       "  </thead>\n",
       "  <tbody>\n",
       "    <tr>\n",
       "      <th>0</th>\n",
       "      <td>1.3</td>\n",
       "      <td>apt_median_age</td>\n",
       "    </tr>\n",
       "    <tr>\n",
       "      <th>1</th>\n",
       "      <td>12.8</td>\n",
       "      <td>total_rooms</td>\n",
       "    </tr>\n",
       "    <tr>\n",
       "      <th>2</th>\n",
       "      <td>35.6</td>\n",
       "      <td>total_bedrooms</td>\n",
       "    </tr>\n",
       "    <tr>\n",
       "      <th>3</th>\n",
       "      <td>6.4</td>\n",
       "      <td>population</td>\n",
       "    </tr>\n",
       "    <tr>\n",
       "      <th>4</th>\n",
       "      <td>34.3</td>\n",
       "      <td>households</td>\n",
       "    </tr>\n",
       "    <tr>\n",
       "      <th>5</th>\n",
       "      <td>1.7</td>\n",
       "      <td>median_income</td>\n",
       "    </tr>\n",
       "    <tr>\n",
       "      <th>6</th>\n",
       "      <td>11.3</td>\n",
       "      <td>location_&lt;1H OCEAN</td>\n",
       "    </tr>\n",
       "    <tr>\n",
       "      <th>7</th>\n",
       "      <td>5.8</td>\n",
       "      <td>location_INLAND</td>\n",
       "    </tr>\n",
       "    <tr>\n",
       "      <th>8</th>\n",
       "      <td>1.0</td>\n",
       "      <td>location_ISLAND</td>\n",
       "    </tr>\n",
       "    <tr>\n",
       "      <th>9</th>\n",
       "      <td>4.1</td>\n",
       "      <td>location_NEAR BAY</td>\n",
       "    </tr>\n",
       "    <tr>\n",
       "      <th>10</th>\n",
       "      <td>3.8</td>\n",
       "      <td>location_NEAR OCEAN</td>\n",
       "    </tr>\n",
       "  </tbody>\n",
       "</table>\n",
       "</div>"
      ],
      "text/plain": [
       "    VIF Factor             features\n",
       "0          1.3       apt_median_age\n",
       "1         12.8          total_rooms\n",
       "2         35.6       total_bedrooms\n",
       "3          6.4           population\n",
       "4         34.3           households\n",
       "5          1.7        median_income\n",
       "6         11.3   location_<1H OCEAN\n",
       "7          5.8      location_INLAND\n",
       "8          1.0      location_ISLAND\n",
       "9          4.1    location_NEAR BAY\n",
       "10         3.8  location_NEAR OCEAN"
      ]
     },
     "execution_count": 99,
     "metadata": {},
     "output_type": "execute_result"
    }
   ],
   "source": [
    "# For each X, calculate VIF and save in dataframe\n",
    "Xvif = X[['apt_median_age', 'total_rooms',\n",
    "       'total_bedrooms', 'population', 'households', 'median_income',\n",
    "        'location_<1H OCEAN','location_INLAND', 'location_ISLAND', 'location_NEAR BAY','location_NEAR OCEAN']]\n",
    "vif = pd.DataFrame()\n",
    "vif[\"VIF Factor\"] = [variance_inflation_factor(Xvif.values, i) for i in range(Xvif.shape[1])]\n",
    "vif[\"features\"] = Xvif.columns\n",
    "vif.round(1)"
   ]
  },
  {
   "cell_type": "code",
   "execution_count": 100,
   "metadata": {},
   "outputs": [
    {
     "data": {
      "text/html": [
       "<div>\n",
       "<style scoped>\n",
       "    .dataframe tbody tr th:only-of-type {\n",
       "        vertical-align: middle;\n",
       "    }\n",
       "\n",
       "    .dataframe tbody tr th {\n",
       "        vertical-align: top;\n",
       "    }\n",
       "\n",
       "    .dataframe thead th {\n",
       "        text-align: right;\n",
       "    }\n",
       "</style>\n",
       "<table border=\"1\" class=\"dataframe\">\n",
       "  <thead>\n",
       "    <tr style=\"text-align: right;\">\n",
       "      <th></th>\n",
       "      <th>VIF Factor</th>\n",
       "      <th>features</th>\n",
       "    </tr>\n",
       "  </thead>\n",
       "  <tbody>\n",
       "    <tr>\n",
       "      <th>0</th>\n",
       "      <td>1.3</td>\n",
       "      <td>apt_median_age</td>\n",
       "    </tr>\n",
       "    <tr>\n",
       "      <th>1</th>\n",
       "      <td>9.6</td>\n",
       "      <td>total_rooms</td>\n",
       "    </tr>\n",
       "    <tr>\n",
       "      <th>2</th>\n",
       "      <td>6.0</td>\n",
       "      <td>population</td>\n",
       "    </tr>\n",
       "    <tr>\n",
       "      <th>3</th>\n",
       "      <td>11.7</td>\n",
       "      <td>households</td>\n",
       "    </tr>\n",
       "    <tr>\n",
       "      <th>4</th>\n",
       "      <td>1.5</td>\n",
       "      <td>median_income</td>\n",
       "    </tr>\n",
       "    <tr>\n",
       "      <th>5</th>\n",
       "      <td>10.6</td>\n",
       "      <td>location_&lt;1H OCEAN</td>\n",
       "    </tr>\n",
       "    <tr>\n",
       "      <th>6</th>\n",
       "      <td>5.4</td>\n",
       "      <td>location_INLAND</td>\n",
       "    </tr>\n",
       "    <tr>\n",
       "      <th>7</th>\n",
       "      <td>1.0</td>\n",
       "      <td>location_ISLAND</td>\n",
       "    </tr>\n",
       "    <tr>\n",
       "      <th>8</th>\n",
       "      <td>3.9</td>\n",
       "      <td>location_NEAR BAY</td>\n",
       "    </tr>\n",
       "    <tr>\n",
       "      <th>9</th>\n",
       "      <td>3.6</td>\n",
       "      <td>location_NEAR OCEAN</td>\n",
       "    </tr>\n",
       "  </tbody>\n",
       "</table>\n",
       "</div>"
      ],
      "text/plain": [
       "   VIF Factor             features\n",
       "0         1.3       apt_median_age\n",
       "1         9.6          total_rooms\n",
       "2         6.0           population\n",
       "3        11.7           households\n",
       "4         1.5        median_income\n",
       "5        10.6   location_<1H OCEAN\n",
       "6         5.4      location_INLAND\n",
       "7         1.0      location_ISLAND\n",
       "8         3.9    location_NEAR BAY\n",
       "9         3.6  location_NEAR OCEAN"
      ]
     },
     "execution_count": 100,
     "metadata": {},
     "output_type": "execute_result"
    }
   ],
   "source": [
    "Xvif1 = X[['apt_median_age', 'total_rooms', 'population', 'households', 'median_income',\n",
    "        'location_<1H OCEAN','location_INLAND', 'location_ISLAND', 'location_NEAR BAY','location_NEAR OCEAN']]\n",
    "vif1 = pd.DataFrame()\n",
    "vif1[\"VIF Factor\"] = [variance_inflation_factor(Xvif1.values, i) for i in range(Xvif1.shape[1])]\n",
    "vif1[\"features\"] = Xvif1.columns\n",
    "vif1.round(1)"
   ]
  },
  {
   "cell_type": "code",
   "execution_count": 101,
   "metadata": {},
   "outputs": [
    {
     "data": {
      "text/html": [
       "<div>\n",
       "<style scoped>\n",
       "    .dataframe tbody tr th:only-of-type {\n",
       "        vertical-align: middle;\n",
       "    }\n",
       "\n",
       "    .dataframe tbody tr th {\n",
       "        vertical-align: top;\n",
       "    }\n",
       "\n",
       "    .dataframe thead th {\n",
       "        text-align: right;\n",
       "    }\n",
       "</style>\n",
       "<table border=\"1\" class=\"dataframe\">\n",
       "  <thead>\n",
       "    <tr style=\"text-align: right;\">\n",
       "      <th></th>\n",
       "      <th>VIF Factor</th>\n",
       "      <th>features</th>\n",
       "    </tr>\n",
       "  </thead>\n",
       "  <tbody>\n",
       "    <tr>\n",
       "      <th>0</th>\n",
       "      <td>1.3</td>\n",
       "      <td>apt_median_age</td>\n",
       "    </tr>\n",
       "    <tr>\n",
       "      <th>1</th>\n",
       "      <td>4.8</td>\n",
       "      <td>total_rooms</td>\n",
       "    </tr>\n",
       "    <tr>\n",
       "      <th>2</th>\n",
       "      <td>4.5</td>\n",
       "      <td>population</td>\n",
       "    </tr>\n",
       "    <tr>\n",
       "      <th>3</th>\n",
       "      <td>1.3</td>\n",
       "      <td>median_income</td>\n",
       "    </tr>\n",
       "    <tr>\n",
       "      <th>4</th>\n",
       "      <td>9.7</td>\n",
       "      <td>location_&lt;1H OCEAN</td>\n",
       "    </tr>\n",
       "    <tr>\n",
       "      <th>5</th>\n",
       "      <td>5.2</td>\n",
       "      <td>location_INLAND</td>\n",
       "    </tr>\n",
       "    <tr>\n",
       "      <th>6</th>\n",
       "      <td>1.0</td>\n",
       "      <td>location_ISLAND</td>\n",
       "    </tr>\n",
       "    <tr>\n",
       "      <th>7</th>\n",
       "      <td>3.7</td>\n",
       "      <td>location_NEAR BAY</td>\n",
       "    </tr>\n",
       "    <tr>\n",
       "      <th>8</th>\n",
       "      <td>3.3</td>\n",
       "      <td>location_NEAR OCEAN</td>\n",
       "    </tr>\n",
       "  </tbody>\n",
       "</table>\n",
       "</div>"
      ],
      "text/plain": [
       "   VIF Factor             features\n",
       "0         1.3       apt_median_age\n",
       "1         4.8          total_rooms\n",
       "2         4.5           population\n",
       "3         1.3        median_income\n",
       "4         9.7   location_<1H OCEAN\n",
       "5         5.2      location_INLAND\n",
       "6         1.0      location_ISLAND\n",
       "7         3.7    location_NEAR BAY\n",
       "8         3.3  location_NEAR OCEAN"
      ]
     },
     "execution_count": 101,
     "metadata": {},
     "output_type": "execute_result"
    }
   ],
   "source": [
    "Xvif2 = X[['apt_median_age', 'total_rooms', 'population', 'median_income',\n",
    "        'location_<1H OCEAN','location_INLAND', 'location_ISLAND', 'location_NEAR BAY','location_NEAR OCEAN']]\n",
    "vif2 = pd.DataFrame()\n",
    "vif2[\"VIF Factor\"] = [variance_inflation_factor(Xvif2.values, i) for i in range(Xvif2.shape[1])]\n",
    "vif2[\"features\"] = Xvif2.columns\n",
    "vif2.round(1)"
   ]
  },
  {
   "cell_type": "code",
   "execution_count": 102,
   "metadata": {},
   "outputs": [
    {
     "data": {
      "text/html": [
       "<div>\n",
       "<style scoped>\n",
       "    .dataframe tbody tr th:only-of-type {\n",
       "        vertical-align: middle;\n",
       "    }\n",
       "\n",
       "    .dataframe tbody tr th {\n",
       "        vertical-align: top;\n",
       "    }\n",
       "\n",
       "    .dataframe thead th {\n",
       "        text-align: right;\n",
       "    }\n",
       "</style>\n",
       "<table border=\"1\" class=\"dataframe\">\n",
       "  <thead>\n",
       "    <tr style=\"text-align: right;\">\n",
       "      <th></th>\n",
       "      <th>VIF Factor</th>\n",
       "      <th>features</th>\n",
       "    </tr>\n",
       "  </thead>\n",
       "  <tbody>\n",
       "    <tr>\n",
       "      <th>0</th>\n",
       "      <td>3.8</td>\n",
       "      <td>apt_median_age</td>\n",
       "    </tr>\n",
       "    <tr>\n",
       "      <th>1</th>\n",
       "      <td>11.6</td>\n",
       "      <td>total_rooms</td>\n",
       "    </tr>\n",
       "    <tr>\n",
       "      <th>2</th>\n",
       "      <td>10.3</td>\n",
       "      <td>population</td>\n",
       "    </tr>\n",
       "    <tr>\n",
       "      <th>3</th>\n",
       "      <td>4.2</td>\n",
       "      <td>median_income</td>\n",
       "    </tr>\n",
       "    <tr>\n",
       "      <th>4</th>\n",
       "      <td>1.5</td>\n",
       "      <td>location_INLAND</td>\n",
       "    </tr>\n",
       "    <tr>\n",
       "      <th>5</th>\n",
       "      <td>1.0</td>\n",
       "      <td>location_ISLAND</td>\n",
       "    </tr>\n",
       "    <tr>\n",
       "      <th>6</th>\n",
       "      <td>1.3</td>\n",
       "      <td>location_NEAR BAY</td>\n",
       "    </tr>\n",
       "    <tr>\n",
       "      <th>7</th>\n",
       "      <td>1.3</td>\n",
       "      <td>location_NEAR OCEAN</td>\n",
       "    </tr>\n",
       "  </tbody>\n",
       "</table>\n",
       "</div>"
      ],
      "text/plain": [
       "   VIF Factor             features\n",
       "0         3.8       apt_median_age\n",
       "1        11.6          total_rooms\n",
       "2        10.3           population\n",
       "3         4.2        median_income\n",
       "4         1.5      location_INLAND\n",
       "5         1.0      location_ISLAND\n",
       "6         1.3    location_NEAR BAY\n",
       "7         1.3  location_NEAR OCEAN"
      ]
     },
     "execution_count": 102,
     "metadata": {},
     "output_type": "execute_result"
    }
   ],
   "source": [
    "Xvif3 = X[['apt_median_age', 'total_rooms', 'population', 'median_income',\n",
    "        'location_INLAND', 'location_ISLAND', 'location_NEAR BAY','location_NEAR OCEAN']]\n",
    "vif3 = pd.DataFrame()\n",
    "vif3[\"VIF Factor\"] = [variance_inflation_factor(Xvif3.values, i) for i in range(Xvif3.shape[1])]\n",
    "vif3[\"features\"] = Xvif3.columns\n",
    "vif3.round(1)"
   ]
  },
  {
   "cell_type": "code",
   "execution_count": 103,
   "metadata": {},
   "outputs": [
    {
     "data": {
      "text/html": [
       "<div>\n",
       "<style scoped>\n",
       "    .dataframe tbody tr th:only-of-type {\n",
       "        vertical-align: middle;\n",
       "    }\n",
       "\n",
       "    .dataframe tbody tr th {\n",
       "        vertical-align: top;\n",
       "    }\n",
       "\n",
       "    .dataframe thead th {\n",
       "        text-align: right;\n",
       "    }\n",
       "</style>\n",
       "<table border=\"1\" class=\"dataframe\">\n",
       "  <thead>\n",
       "    <tr style=\"text-align: right;\">\n",
       "      <th></th>\n",
       "      <th>VIF Factor</th>\n",
       "      <th>features</th>\n",
       "    </tr>\n",
       "  </thead>\n",
       "  <tbody>\n",
       "    <tr>\n",
       "      <th>0</th>\n",
       "      <td>3.4</td>\n",
       "      <td>apt_median_age</td>\n",
       "    </tr>\n",
       "    <tr>\n",
       "      <th>1</th>\n",
       "      <td>2.1</td>\n",
       "      <td>population</td>\n",
       "    </tr>\n",
       "    <tr>\n",
       "      <th>2</th>\n",
       "      <td>3.4</td>\n",
       "      <td>median_income</td>\n",
       "    </tr>\n",
       "    <tr>\n",
       "      <th>3</th>\n",
       "      <td>1.4</td>\n",
       "      <td>location_INLAND</td>\n",
       "    </tr>\n",
       "    <tr>\n",
       "      <th>4</th>\n",
       "      <td>1.0</td>\n",
       "      <td>location_ISLAND</td>\n",
       "    </tr>\n",
       "    <tr>\n",
       "      <th>5</th>\n",
       "      <td>1.3</td>\n",
       "      <td>location_NEAR BAY</td>\n",
       "    </tr>\n",
       "    <tr>\n",
       "      <th>6</th>\n",
       "      <td>1.2</td>\n",
       "      <td>location_NEAR OCEAN</td>\n",
       "    </tr>\n",
       "  </tbody>\n",
       "</table>\n",
       "</div>"
      ],
      "text/plain": [
       "   VIF Factor             features\n",
       "0         3.4       apt_median_age\n",
       "1         2.1           population\n",
       "2         3.4        median_income\n",
       "3         1.4      location_INLAND\n",
       "4         1.0      location_ISLAND\n",
       "5         1.3    location_NEAR BAY\n",
       "6         1.2  location_NEAR OCEAN"
      ]
     },
     "execution_count": 103,
     "metadata": {},
     "output_type": "execute_result"
    }
   ],
   "source": [
    "Xvif4 = X[['apt_median_age','population', 'median_income',\n",
    "        'location_INLAND', 'location_ISLAND', 'location_NEAR BAY','location_NEAR OCEAN']]\n",
    "vif4 = pd.DataFrame()\n",
    "vif4[\"VIF Factor\"] = [variance_inflation_factor(Xvif4.values, i) for i in range(Xvif4.shape[1])]\n",
    "vif4[\"features\"] = Xvif4.columns\n",
    "vif4.round(1)"
   ]
  },
  {
   "cell_type": "markdown",
   "metadata": {},
   "source": [
    "#### **Using variance Inflation Factor we can conculde that  apt_median_age, population, median_income, location_INLAND, location_ISLAND, location_NEAR BAY and location_NEAR OCEAN are the most important features"
   ]
  },
  {
   "cell_type": "markdown",
   "metadata": {},
   "source": [
    "#### Colinearity"
   ]
  },
  {
   "cell_type": "code",
   "execution_count": 121,
   "metadata": {},
   "outputs": [
    {
     "data": {
      "image/png": "[encoded data removed]",
      "text/plain": [
       "<Figure size 1152x864 with 2 Axes>"
      ]
     },
     "metadata": {
      "needs_background": "light"
     },
     "output_type": "display_data"
    }
   ],
   "source": [
    "plt.figure(figsize=(16,12))\n",
    "sns.heatmap(data=df.corr(),annot=True,fmt='.2f',cmap='coolwarm')\n",
    "plt.show()"
   ]
  },
  {
   "cell_type": "markdown",
   "metadata": {},
   "source": [
    "### **** colinearity we can conclude that median_income and location_<1H OCEAN, location_INLAND are also important features"
   ]
  },
  {
   "cell_type": "markdown",
   "metadata": {},
   "source": [
    "#### Random forest sugests the follwoing as best features-\n",
    "1.median_income\n",
    "2.location_INLAND\n",
    "\n",
    "#### VIF and Colinearity approach suggest-\n",
    "1.apt_median_age\n",
    "2.population\n",
    "3.median_income\n",
    "4.location_INLAND\n",
    "5.location_ISLAND\n",
    "6.location_NEAR BAY\n",
    "7.location_NEAR OCEAN"
   ]
  },
  {
   "cell_type": "markdown",
   "metadata": {},
   "source": [
    "## Fix the total number max depth of the tree  (N) to be 10  and let the max depth of the tree (d) to vary from 2 to 10 in steps of 2 .\n",
    "## Find out the choice of 'd' that result in the best prediciton accuracy.  (Assume 5 fold cross validation)"
   ]
  },
  {
   "cell_type": "code",
   "execution_count": 113,
   "metadata": {},
   "outputs": [],
   "source": [
    "def kfold_rf(dataframe,features_list,target_col):\n",
    "    depth_trees = [i for i in range(2,12,2)]\n",
    "    scores = []\n",
    "    rmses_list = []\n",
    "    X = df[features_list]\n",
    "    y = df[target_col]\n",
    "    # train test spliting of data set\n",
    "    X_train, X_test, y_train, y_test = train_test_split( X, y, test_size=0.33, random_state=42)\n",
    "    for depth in depth_trees:\n",
    "        kf = KFold(5, shuffle=True, random_state=1)\n",
    "        rf = RandomForestRegressor(n_estimators=10, max_depth=depth, random_state=1)\n",
    "        mses = cross_val_score(rf, X_train, y_train, scoring =\"neg_mean_squared_error\", cv=kf)\n",
    "        rmses = np.sqrt(np.absolute(mses))\n",
    "        avg_rmses = np.mean(rmses)\n",
    "        print('Root Mean Squre of the 5 fold CV of depth {} is {}'.format(depth,avg_rmses))\n",
    "        std_rmse = np.std(rmses)\n",
    "        avg_rmse = np.mean(rmses)\n",
    "        rmses_list.append(avg_rmse)\n",
    "        rf.fit(X_train,y_train)\n",
    "        y_pred = rf.predict(X_test)\n",
    "        scores.append(rf.score(X_test,y_test))\n",
    "        print('========Depth of Trees {} ========'.format(depth))\n",
    "        print('Mean Absolute Error:', metrics.mean_absolute_error(y_test, y_pred))\n",
    "        print('Mean Squared Error:', metrics.mean_squared_error(y_test, y_pred))\n",
    "        print('Root Mean Squared Error:', np.sqrt(metrics.mean_squared_error(y_test, y_pred)))\n",
    "        original_predicted = pd.DataFrame()\n",
    "        original_predicted['original_values'] = y_test\n",
    "        original_predicted['predicted_values'] = y_pred\n",
    "        original_predicted['squared_error'] = (original_predicted['original_values'] - original_predicted['predicted_values'])** 2"
   ]
  },
  {
   "cell_type": "code",
   "execution_count": 114,
   "metadata": {},
   "outputs": [
    {
     "name": "stdout",
     "output_type": "stream",
     "text": [
      "Root Mean Squre of the 5 fold CV of depth 2 is 81085.9623254253\n",
      "========Depth of Trees 2 ========\n",
      "Mean Absolute Error: 60839.23035880496\n",
      "Mean Squared Error: 6515924834.833095\n",
      "Root Mean Squared Error: 80721.2786991949\n",
      "Root Mean Squre of the 5 fold CV of depth 4 is 71979.9203091449\n",
      "========Depth of Trees 4 ========\n",
      "Mean Absolute Error: 51852.827447459\n",
      "Mean Squared Error: 5113076542.897926\n",
      "Root Mean Squared Error: 71505.7797866573\n",
      "Root Mean Squre of the 5 fold CV of depth 6 is 69035.89392512891\n",
      "========Depth of Trees 6 ========\n",
      "Mean Absolute Error: 49102.87916365687\n",
      "Mean Squared Error: 4699340740.664225\n",
      "Root Mean Squared Error: 68551.73769252114\n",
      "Root Mean Squre of the 5 fold CV of depth 8 is 66354.0812797184\n",
      "========Depth of Trees 8 ========\n",
      "Mean Absolute Error: 46782.789480379455\n",
      "Mean Squared Error: 4342238907.924897\n",
      "Root Mean Squared Error: 65895.66683724278\n",
      "Root Mean Squre of the 5 fold CV of depth 10 is 64749.669703581\n",
      "========Depth of Trees 10 ========\n",
      "Mean Absolute Error: 44695.788815438704\n",
      "Mean Squared Error: 4064996738.3046446\n",
      "Root Mean Squared Error: 63757.32693820095\n"
     ]
    }
   ],
   "source": [
    "features_list = ['apt_median_age', 'total_rooms', 'total_bedrooms', 'population',\n",
    "                 'households', 'median_income','location_<1H OCEAN',\n",
    "                 'location_INLAND', 'location_ISLAND', 'location_NEAR BAY','location_NEAR OCEAN']\n",
    "target_col = 'median_apt_value'\n",
    "kfold_rf(df,features_list,target_col)"
   ]
  },
  {
   "cell_type": "markdown",
   "metadata": {},
   "source": [
    "### *** At the depth of 10 the model gives the best RMSE"
   ]
  },
  {
   "cell_type": "code",
   "execution_count": null,
   "metadata": {},
   "outputs": [],
   "source": []
  }
 ],
 "metadata": {
  "kernelspec": {
   "display_name": "Python 3",
   "language": "python",
   "name": "python3"
  },
  "language_info": {
   "codemirror_mode": {
    "name": "ipython",
    "version": 3
   },
   "file_extension": ".py",
   "mimetype": "text/x-python",
   "name": "python",
   "nbconvert_exporter": "python",
   "pygments_lexer": "ipython3",
   "version": "3.7.3"
  }
 },
 "nbformat": 4,
 "nbformat_minor": 2
}
